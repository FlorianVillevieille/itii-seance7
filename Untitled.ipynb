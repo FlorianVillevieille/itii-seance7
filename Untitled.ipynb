{
 "cells": [
  {
   "cell_type": "code",
   "execution_count": 1,
   "metadata": {},
   "outputs": [
    {
     "name": "stdout",
     "output_type": "stream",
     "text": [
      "A :  [[  3   1   5]\n",
      " [  9   8  -1]\n",
      " [110  12   2]]\n",
      "B :  [[ 8 -1  8]\n",
      " [ 2  1  3]\n",
      " [18  2 32]]\n",
      "A + B :  [[ 11   0  13]\n",
      " [ 11   9   2]\n",
      " [128  14  34]]\n"
     ]
    }
   ],
   "source": [
    "import numpy as np\n",
    "\n",
    "A = np.array ([ [3,1,5], [9, 8, -1], [110, 12 ,2] ])\n",
    "B = np.array ([ [8, -1, 8], [2, 1, 3], [18, 2, 32] ])\n",
    "\n",
    "C= A+B\n",
    "print(\"A : \",A)\n",
    "print(\"B : \",B)\n",
    "print(\"A + B : \",C)"
   ]
  },
  {
   "cell_type": "code",
   "execution_count": 2,
   "metadata": {},
   "outputs": [
    {
     "name": "stdout",
     "output_type": "stream",
     "text": [
      "A :  [[ 3  1  5]\n",
      " [ 9  8 -1]\n",
      " [10 12  2]]\n",
      "B :  [[ 8 -1  8]\n",
      " [ 2  1  3]\n",
      " [18  2 32]]\n",
      "A * B :  [[116   8 187]\n",
      " [ 70  -3  64]\n",
      " [140   6 180]]\n"
     ]
    }
   ],
   "source": [
    "import numpy as np\n",
    " \n",
    "A = np.array([ [3, 1, 5], [9, 8, -1], [10, 12, 2] ])\n",
    "B = np.array([ [8, -1, 8], [2, 1, 3], [18, 2, 32] ])\n",
    " \n",
    "C = A.dot(B)\n",
    " \n",
    "print(\"A : \", A)\n",
    "print(\"B : \", B)\n",
    "print(\"A * B : \", C)"
   ]
  },
  {
   "cell_type": "code",
   "execution_count": 3,
   "metadata": {},
   "outputs": [],
   "source": [
    "def eststochastique(P):\n",
    "    x=np.sum(P,axis=1)\n",
    "    \n",
    "    etat=(x < 1).all()       \n",
    "    return etat"
   ]
  },
  {
   "cell_type": "code",
   "execution_count": null,
   "metadata": {},
   "outputs": [],
   "source": [
    "import numpy as np\n",
    " \n",
    "A = np.array([ [3, 1, 5], [9, 8, -1], [18, 12, 2] ])\n",
    " \n",
    "C = A.transpose()\n",
    " \n",
    "print(\"A : \", A)\n",
    "print(\"Transposée de A : \", C)"
   ]
  }
 ],
 "metadata": {
  "kernelspec": {
   "display_name": "Python 3",
   "language": "python",
   "name": "python3"
  },
  "language_info": {
   "codemirror_mode": {
    "name": "ipython",
    "version": 3
   },
   "file_extension": ".py",
   "mimetype": "text/x-python",
   "name": "python",
   "nbconvert_exporter": "python",
   "pygments_lexer": "ipython3",
   "version": "3.8.3"
  }
 },
 "nbformat": 4,
 "nbformat_minor": 4
}
